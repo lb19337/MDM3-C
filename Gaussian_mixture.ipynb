{
 "cells": [
  {
   "cell_type": "code",
   "execution_count": 1,
   "metadata": {},
   "outputs": [
    {
     "name": "stderr",
     "output_type": "stream",
     "text": [
      "[ WARN:0@0.778] global /private/var/folders/0l/lw2xztpj7cqfl8fvy1wns76c0000gn/T/pip-install-eczlrxyz/opencv-python_cf52a69da9174a45a15aee697a521449/opencv/modules/imgcodecs/src/loadsave.cpp (239) findDecoder imread_('horse.png'): can't open/read file: check file path/integrity\n"
     ]
    },
    {
     "ename": "error",
     "evalue": "OpenCV(4.5.5) /private/var/folders/0l/lw2xztpj7cqfl8fvy1wns76c0000gn/T/pip-install-eczlrxyz/opencv-python_cf52a69da9174a45a15aee697a521449/opencv/modules/imgproc/src/color.cpp:182: error: (-215:Assertion failed) !_src.empty() in function 'cvtColor'\n",
     "output_type": "error",
     "traceback": [
      "\u001b[0;31m---------------------------------------------------------------------------\u001b[0m",
      "\u001b[0;31merror\u001b[0m                                     Traceback (most recent call last)",
      "\u001b[0;32m/var/folders/0l/lw2xztpj7cqfl8fvy1wns76c0000gn/T/ipykernel_19939/1619150394.py\u001b[0m in \u001b[0;36m<module>\u001b[0;34m\u001b[0m\n\u001b[1;32m      5\u001b[0m \u001b[0;31m# read in image and convert to black and white\u001b[0m\u001b[0;34m\u001b[0m\u001b[0;34m\u001b[0m\u001b[0;34m\u001b[0m\u001b[0m\n\u001b[1;32m      6\u001b[0m \u001b[0mhorse\u001b[0m \u001b[0;34m=\u001b[0m \u001b[0mcv2\u001b[0m\u001b[0;34m.\u001b[0m\u001b[0mimread\u001b[0m\u001b[0;34m(\u001b[0m\u001b[0;34m'horse.png'\u001b[0m\u001b[0;34m)\u001b[0m\u001b[0;34m\u001b[0m\u001b[0;34m\u001b[0m\u001b[0m\n\u001b[0;32m----> 7\u001b[0;31m \u001b[0mgrey_horse\u001b[0m \u001b[0;34m=\u001b[0m \u001b[0mcv2\u001b[0m\u001b[0;34m.\u001b[0m\u001b[0mcvtColor\u001b[0m\u001b[0;34m(\u001b[0m\u001b[0mhorse\u001b[0m\u001b[0;34m,\u001b[0m \u001b[0mcv2\u001b[0m\u001b[0;34m.\u001b[0m\u001b[0mCOLOR_BGR2GRAY\u001b[0m\u001b[0;34m)\u001b[0m\u001b[0;34m\u001b[0m\u001b[0;34m\u001b[0m\u001b[0m\n\u001b[0m\u001b[1;32m      8\u001b[0m \u001b[0;34m(\u001b[0m\u001b[0mthresh\u001b[0m\u001b[0;34m,\u001b[0m \u001b[0mwhite_horse\u001b[0m\u001b[0;34m)\u001b[0m \u001b[0;34m=\u001b[0m \u001b[0mcv2\u001b[0m\u001b[0;34m.\u001b[0m\u001b[0mthreshold\u001b[0m\u001b[0;34m(\u001b[0m\u001b[0mgrey_horse\u001b[0m\u001b[0;34m,\u001b[0m \u001b[0;36m128\u001b[0m\u001b[0;34m,\u001b[0m \u001b[0;36m255\u001b[0m\u001b[0;34m,\u001b[0m \u001b[0mcv2\u001b[0m\u001b[0;34m.\u001b[0m\u001b[0mTHRESH_BINARY\u001b[0m \u001b[0;34m|\u001b[0m \u001b[0mcv2\u001b[0m\u001b[0;34m.\u001b[0m\u001b[0mTHRESH_OTSU\u001b[0m\u001b[0;34m)\u001b[0m\u001b[0;34m\u001b[0m\u001b[0;34m\u001b[0m\u001b[0m\n\u001b[1;32m      9\u001b[0m \u001b[0;34m\u001b[0m\u001b[0m\n",
      "\u001b[0;31merror\u001b[0m: OpenCV(4.5.5) /private/var/folders/0l/lw2xztpj7cqfl8fvy1wns76c0000gn/T/pip-install-eczlrxyz/opencv-python_cf52a69da9174a45a15aee697a521449/opencv/modules/imgproc/src/color.cpp:182: error: (-215:Assertion failed) !_src.empty() in function 'cvtColor'\n"
     ]
    }
   ],
   "source": [
    "import cv2\n",
    "import matplotlib.pyplot as plt\n",
    "import numpy as np\n",
    "\n",
    "# read in image and convert to black and white\n",
    "horse = cv2.imread('horsey/horse.png')\n",
    "grey_horse = cv2.cvtColor(horse, cv2.COLOR_BGR2GRAY)\n",
    "(thresh, white_horse) = cv2.threshold(grey_horse, 128, 255, cv2.THRESH_BINARY | cv2.THRESH_OTSU)\n",
    "\n",
    "# initialise arrays to store positions of each pixel\n",
    "x_pixels = np.zeros(len(white_horse.flatten()))\n",
    "y_pixels = np.zeros(len(white_horse.flatten()))\n",
    "\n",
    "# store position of each pixel\n",
    "count = 0\n",
    "for row in range(white_horse.shape[0]):\n",
    "    for column in range(white_horse.shape[1]):\n",
    "        if white_horse[row,column] != 0:\n",
    "            x_pixels[count] = column\n",
    "            y_pixels[count] = -row\n",
    "        count += 1 \n",
    "\n",
    "# remove datapoints where there are no pixels\n",
    "x_pixels = x_pixels[x_pixels != 0]\n",
    "y_pixels = y_pixels[y_pixels != 0]\n",
    "\n",
    "# plot\n",
    "fig, ax = plt.subplots(1 , 2)\n",
    "\n",
    "ax[0].imshow(white_horse, cmap='gray', aspect='auto')\n",
    "ax[1].scatter(x_pixels, y_pixels)\n",
    "\n",
    "plt.show()"
   ]
  }
 ],
 "metadata": {
  "interpreter": {
   "hash": "aee8b7b246df8f9039afb4144a1f6fd8d2ca17a180786b69acc140d282b71a49"
  },
  "kernelspec": {
   "display_name": "Python 3.9.4 64-bit",
   "language": "python",
   "name": "python3"
  },
  "language_info": {
   "codemirror_mode": {
    "name": "ipython",
    "version": 3
   },
   "file_extension": ".py",
   "mimetype": "text/x-python",
   "name": "python",
   "nbconvert_exporter": "python",
   "pygments_lexer": "ipython3",
   "version": "3.9.4"
  },
  "orig_nbformat": 4
 },
 "nbformat": 4,
 "nbformat_minor": 2
}
